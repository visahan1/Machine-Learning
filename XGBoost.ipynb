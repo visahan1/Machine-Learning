{
 "cells": [
  {
   "cell_type": "raw",
   "id": "widespread-blair",
   "metadata": {},
   "source": [
    "Predict whether a person makes over\n",
    "50K per year or not from classic adult dataset using XGBoost. The\n",
    "description of the dataset is as follows:\n",
    "Data Set Information:\n",
    "Extraction was done by Barry Becker from the 1994 Census\n",
    "database. A set of reasonably clean records was extracted using the\n",
    "following conditions: ((AAGE>16) && (AGI>100) &&\n",
    "(AFNLWGT>1)&& (HRSWK>0))\n",
    "\n",
    "Attribute Information:\n",
    "Listing of attributes: >50K, <=50K.\n",
    "age: continuous.\n",
    "workclass: Private, Self-emp-not-inc, Self-emp-inc, Federal-gov,\n",
    "Local-gov, State-gov, Without-pay, Never-worked.\n",
    "fnlwgt: continuous.\n",
    "education: Bachelors, Some-college, 11th, HS-grad, Prof-school,\n",
    "Assoc-acdm, Assoc-voc, 9th, 7th-8th, 12th, Masters, 1st-4th, 10th,\n",
    "Doctorate, 5th-6th, Preschool.\n",
    "education-num: continuous.\n",
    "\n",
    "marital-status: Married-civ-spouse, Divorced, Never-married,\n",
    "Separated, Widowed, Married-spouse-absent, Married-AF-spouse.\n",
    "\n",
    "occupation: Tech-support, Craft-repair, Other-service, Sales, Exec-\n",
    "managerial, Prof-specialty, Handlers-cleaners, Machine-op-inspct,\n",
    "\n",
    "Adm-clerical, Farming-fishing, Transport-moving, Priv-house-serv,\n",
    "Protective-serv, Armed-Forces.\n",
    "relationship: Wife, Own-child, Husband, Not-in-family, Other-relative,\n",
    "Unmarried.\n",
    "race: White, Asian-Pac-Islander, Amer-Indian-Eskimo, Other, Black.\n",
    "sex: Female, Male.\n",
    "capital-gain: continuous.\n",
    "capital-loss: continuous.\n",
    "hours-per-week: continuous.\n",
    "native-country: United-States, Cambodia, England, Puerto-Rico,\n",
    "Canada, Germany, Outlying-US(Guam-USVI-etc), India, Japan,\n",
    "Greece, South, China, Cuba, Iran, Honduras, Philippines, Italy,\n",
    "Poland, Jamaica, Vietnam, Mexico, Portugal, Ireland, France,\n",
    "Dominican-Republic, Laos, Ecuador, Taiwan, Haiti, Columbia,\n",
    "\n",
    "Hungary, Guatemala, Nicaragua, Scotland, Thailand, Yugoslavia, El-\n",
    "Salvador, Trinadad&Tobago, Peru, Hong, Holand-Netherlands.\n",
    "\n"
   ]
  },
  {
   "cell_type": "code",
   "execution_count": 1,
   "id": "processed-india",
   "metadata": {},
   "outputs": [],
   "source": [
    "import numpy as np\n",
    "import pandas as pd\n",
    "import matplotlib.pyplot as plt\n",
    "from sklearn.impute import KNNImputer\n",
    "import seaborn as sns\n",
    "sns.set()\n",
    "from sklearn.preprocessing import OneHotEncoder,LabelEncoder\n",
    "from sklearn.impute import SimpleImputer\n",
    "from sklearn.preprocessing import OrdinalEncoder\n",
    "from sklearn.preprocessing import OneHotEncoder\n",
    "from sklearn.compose import ColumnTransformer\n",
    "from sklearn.pipeline import Pipeline\n",
    "from statsmodels.stats.outliers_influence import variance_inflation_factor\n",
    "from sklearn.preprocessing import StandardScaler\n",
    "from sklearn.base import BaseEstimator,TransformerMixin\n",
    "from sklearn.preprocessing import LabelEncoder\n",
    "from sklearn.decomposition import PCA\n",
    "from xgboost import XGBClassifier\n",
    "from sklearn.metrics import accuracy_score,roc_curve,confusion_matrix, roc_auc_score\n",
    "from sklearn.model_selection import GridSearchCV"
   ]
  },
  {
   "cell_type": "code",
   "execution_count": 2,
   "id": "oriental-powell",
   "metadata": {},
   "outputs": [
    {
     "data": {
      "text/html": [
       "<div>\n",
       "<style scoped>\n",
       "    .dataframe tbody tr th:only-of-type {\n",
       "        vertical-align: middle;\n",
       "    }\n",
       "\n",
       "    .dataframe tbody tr th {\n",
       "        vertical-align: top;\n",
       "    }\n",
       "\n",
       "    .dataframe thead th {\n",
       "        text-align: right;\n",
       "    }\n",
       "</style>\n",
       "<table border=\"1\" class=\"dataframe\">\n",
       "  <thead>\n",
       "    <tr style=\"text-align: right;\">\n",
       "      <th></th>\n",
       "      <th>age</th>\n",
       "      <th>workclass</th>\n",
       "      <th>fnlwgt</th>\n",
       "      <th>education</th>\n",
       "      <th>education_num</th>\n",
       "      <th>marital_status</th>\n",
       "      <th>occupation</th>\n",
       "      <th>relationship</th>\n",
       "      <th>race</th>\n",
       "      <th>sex</th>\n",
       "      <th>capital_gain</th>\n",
       "      <th>capital_loss</th>\n",
       "      <th>hours_per_week</th>\n",
       "      <th>native_country</th>\n",
       "      <th>wage_class</th>\n",
       "    </tr>\n",
       "  </thead>\n",
       "  <tbody>\n",
       "    <tr>\n",
       "      <th>0</th>\n",
       "      <td>39</td>\n",
       "      <td>State-gov</td>\n",
       "      <td>77516</td>\n",
       "      <td>Bachelors</td>\n",
       "      <td>13</td>\n",
       "      <td>Never-married</td>\n",
       "      <td>Adm-clerical</td>\n",
       "      <td>Not-in-family</td>\n",
       "      <td>White</td>\n",
       "      <td>Male</td>\n",
       "      <td>2174</td>\n",
       "      <td>0</td>\n",
       "      <td>40</td>\n",
       "      <td>United-States</td>\n",
       "      <td>&lt;=50K</td>\n",
       "    </tr>\n",
       "    <tr>\n",
       "      <th>1</th>\n",
       "      <td>50</td>\n",
       "      <td>Self-emp-not-inc</td>\n",
       "      <td>83311</td>\n",
       "      <td>Bachelors</td>\n",
       "      <td>13</td>\n",
       "      <td>Married-civ-spouse</td>\n",
       "      <td>Exec-managerial</td>\n",
       "      <td>Husband</td>\n",
       "      <td>White</td>\n",
       "      <td>Male</td>\n",
       "      <td>0</td>\n",
       "      <td>0</td>\n",
       "      <td>13</td>\n",
       "      <td>United-States</td>\n",
       "      <td>&lt;=50K</td>\n",
       "    </tr>\n",
       "    <tr>\n",
       "      <th>2</th>\n",
       "      <td>38</td>\n",
       "      <td>Private</td>\n",
       "      <td>215646</td>\n",
       "      <td>HS-grad</td>\n",
       "      <td>9</td>\n",
       "      <td>Divorced</td>\n",
       "      <td>Handlers-cleaners</td>\n",
       "      <td>Not-in-family</td>\n",
       "      <td>White</td>\n",
       "      <td>Male</td>\n",
       "      <td>0</td>\n",
       "      <td>0</td>\n",
       "      <td>40</td>\n",
       "      <td>United-States</td>\n",
       "      <td>&lt;=50K</td>\n",
       "    </tr>\n",
       "    <tr>\n",
       "      <th>3</th>\n",
       "      <td>53</td>\n",
       "      <td>Private</td>\n",
       "      <td>234721</td>\n",
       "      <td>11th</td>\n",
       "      <td>7</td>\n",
       "      <td>Married-civ-spouse</td>\n",
       "      <td>Handlers-cleaners</td>\n",
       "      <td>Husband</td>\n",
       "      <td>Black</td>\n",
       "      <td>Male</td>\n",
       "      <td>0</td>\n",
       "      <td>0</td>\n",
       "      <td>40</td>\n",
       "      <td>United-States</td>\n",
       "      <td>&lt;=50K</td>\n",
       "    </tr>\n",
       "    <tr>\n",
       "      <th>4</th>\n",
       "      <td>28</td>\n",
       "      <td>Private</td>\n",
       "      <td>338409</td>\n",
       "      <td>Bachelors</td>\n",
       "      <td>13</td>\n",
       "      <td>Married-civ-spouse</td>\n",
       "      <td>Prof-specialty</td>\n",
       "      <td>Wife</td>\n",
       "      <td>Black</td>\n",
       "      <td>Female</td>\n",
       "      <td>0</td>\n",
       "      <td>0</td>\n",
       "      <td>40</td>\n",
       "      <td>Cuba</td>\n",
       "      <td>&lt;=50K</td>\n",
       "    </tr>\n",
       "  </tbody>\n",
       "</table>\n",
       "</div>"
      ],
      "text/plain": [
       "   age          workclass  fnlwgt   education  education_num  \\\n",
       "0   39          State-gov   77516   Bachelors             13   \n",
       "1   50   Self-emp-not-inc   83311   Bachelors             13   \n",
       "2   38            Private  215646     HS-grad              9   \n",
       "3   53            Private  234721        11th              7   \n",
       "4   28            Private  338409   Bachelors             13   \n",
       "\n",
       "        marital_status          occupation    relationship    race      sex  \\\n",
       "0        Never-married        Adm-clerical   Not-in-family   White     Male   \n",
       "1   Married-civ-spouse     Exec-managerial         Husband   White     Male   \n",
       "2             Divorced   Handlers-cleaners   Not-in-family   White     Male   \n",
       "3   Married-civ-spouse   Handlers-cleaners         Husband   Black     Male   \n",
       "4   Married-civ-spouse      Prof-specialty            Wife   Black   Female   \n",
       "\n",
       "   capital_gain  capital_loss  hours_per_week  native_country wage_class  \n",
       "0          2174             0              40   United-States      <=50K  \n",
       "1             0             0              13   United-States      <=50K  \n",
       "2             0             0              40   United-States      <=50K  \n",
       "3             0             0              40   United-States      <=50K  \n",
       "4             0             0              40            Cuba      <=50K  "
      ]
     },
     "execution_count": 2,
     "metadata": {},
     "output_type": "execute_result"
    }
   ],
   "source": [
    "train_set = pd.read_csv('https://archive.ics.uci.edu/ml/machine-learning-databases/adult/adult.data', header = None)\n",
    "test_set = pd.read_csv('https://archive.ics.uci.edu/ml/machine-learning-databases/adult/adult.test' , skiprows = 1, header = None)\n",
    "col_labels = ['age', 'workclass', 'fnlwgt', 'education', 'education_num','marital_status', 'occupation','relationship', 'race', 'sex', 'capital_gain','capital_loss', 'hours_per_week', 'native_country', 'wage_class']\n",
    "train_set.columns = col_labels\n",
    "test_set.columns = col_labels\n",
    "cat_cols = ['workclass', 'education','marital_status', 'occupation','relationship', 'race', 'sex', 'native_country', 'wage_class']\n",
    "train_set.head()"
   ]
  },
  {
   "cell_type": "code",
   "execution_count": 3,
   "id": "formal-nelson",
   "metadata": {},
   "outputs": [
    {
     "data": {
      "text/plain": [
       "age               0\n",
       "workclass         0\n",
       "fnlwgt            0\n",
       "education         0\n",
       "education_num     0\n",
       "marital_status    0\n",
       "occupation        0\n",
       "relationship      0\n",
       "race              0\n",
       "sex               0\n",
       "capital_gain      0\n",
       "capital_loss      0\n",
       "hours_per_week    0\n",
       "native_country    0\n",
       "wage_class        0\n",
       "dtype: int64"
      ]
     },
     "execution_count": 3,
     "metadata": {},
     "output_type": "execute_result"
    }
   ],
   "source": [
    "train_set.isnull().sum()\n",
    "#No null value found but ? is present which represents missing value"
   ]
  },
  {
   "cell_type": "code",
   "execution_count": 4,
   "id": "professional-excerpt",
   "metadata": {},
   "outputs": [
    {
     "data": {
      "text/plain": [
       "array([' State-gov', ' Self-emp-not-inc', ' Private', ' Federal-gov',\n",
       "       ' Local-gov', ' ?', ' Self-emp-inc', ' Without-pay',\n",
       "       ' Never-worked'], dtype=object)"
      ]
     },
     "execution_count": 4,
     "metadata": {},
     "output_type": "execute_result"
    }
   ],
   "source": [
    "train_set['workclass'].unique()"
   ]
  },
  {
   "cell_type": "code",
   "execution_count": 5,
   "id": "brutal-diving",
   "metadata": {},
   "outputs": [],
   "source": [
    "train_set.replace(' ?', np.NaN,inplace=True)\n",
    "test_set.replace(' ?', np.NaN,inplace=True)"
   ]
  },
  {
   "cell_type": "code",
   "execution_count": 6,
   "id": "minus-lawyer",
   "metadata": {},
   "outputs": [
    {
     "data": {
      "text/plain": [
       "age                  0\n",
       "workclass         1836\n",
       "fnlwgt               0\n",
       "education            0\n",
       "education_num        0\n",
       "marital_status       0\n",
       "occupation        1843\n",
       "relationship         0\n",
       "race                 0\n",
       "sex                  0\n",
       "capital_gain         0\n",
       "capital_loss         0\n",
       "hours_per_week       0\n",
       "native_country     583\n",
       "wage_class           0\n",
       "dtype: int64"
      ]
     },
     "execution_count": 6,
     "metadata": {},
     "output_type": "execute_result"
    }
   ],
   "source": [
    "train_set.isnull().sum()"
   ]
  },
  {
   "cell_type": "code",
   "execution_count": 7,
   "id": "corresponding-willow",
   "metadata": {},
   "outputs": [
    {
     "data": {
      "text/html": [
       "<div>\n",
       "<style scoped>\n",
       "    .dataframe tbody tr th:only-of-type {\n",
       "        vertical-align: middle;\n",
       "    }\n",
       "\n",
       "    .dataframe tbody tr th {\n",
       "        vertical-align: top;\n",
       "    }\n",
       "\n",
       "    .dataframe thead th {\n",
       "        text-align: right;\n",
       "    }\n",
       "</style>\n",
       "<table border=\"1\" class=\"dataframe\">\n",
       "  <thead>\n",
       "    <tr style=\"text-align: right;\">\n",
       "      <th></th>\n",
       "      <th>0</th>\n",
       "      <th>1</th>\n",
       "    </tr>\n",
       "  </thead>\n",
       "  <tbody>\n",
       "    <tr>\n",
       "      <th>age</th>\n",
       "      <td>int64</td>\n",
       "      <td>int64</td>\n",
       "    </tr>\n",
       "    <tr>\n",
       "      <th>workclass</th>\n",
       "      <td>object</td>\n",
       "      <td>object</td>\n",
       "    </tr>\n",
       "    <tr>\n",
       "      <th>fnlwgt</th>\n",
       "      <td>int64</td>\n",
       "      <td>int64</td>\n",
       "    </tr>\n",
       "    <tr>\n",
       "      <th>education</th>\n",
       "      <td>object</td>\n",
       "      <td>object</td>\n",
       "    </tr>\n",
       "    <tr>\n",
       "      <th>education_num</th>\n",
       "      <td>int64</td>\n",
       "      <td>int64</td>\n",
       "    </tr>\n",
       "    <tr>\n",
       "      <th>marital_status</th>\n",
       "      <td>object</td>\n",
       "      <td>object</td>\n",
       "    </tr>\n",
       "    <tr>\n",
       "      <th>occupation</th>\n",
       "      <td>object</td>\n",
       "      <td>object</td>\n",
       "    </tr>\n",
       "    <tr>\n",
       "      <th>relationship</th>\n",
       "      <td>object</td>\n",
       "      <td>object</td>\n",
       "    </tr>\n",
       "    <tr>\n",
       "      <th>race</th>\n",
       "      <td>object</td>\n",
       "      <td>object</td>\n",
       "    </tr>\n",
       "    <tr>\n",
       "      <th>sex</th>\n",
       "      <td>object</td>\n",
       "      <td>object</td>\n",
       "    </tr>\n",
       "    <tr>\n",
       "      <th>capital_gain</th>\n",
       "      <td>int64</td>\n",
       "      <td>int64</td>\n",
       "    </tr>\n",
       "    <tr>\n",
       "      <th>capital_loss</th>\n",
       "      <td>int64</td>\n",
       "      <td>int64</td>\n",
       "    </tr>\n",
       "    <tr>\n",
       "      <th>hours_per_week</th>\n",
       "      <td>int64</td>\n",
       "      <td>int64</td>\n",
       "    </tr>\n",
       "    <tr>\n",
       "      <th>native_country</th>\n",
       "      <td>object</td>\n",
       "      <td>object</td>\n",
       "    </tr>\n",
       "    <tr>\n",
       "      <th>wage_class</th>\n",
       "      <td>object</td>\n",
       "      <td>object</td>\n",
       "    </tr>\n",
       "  </tbody>\n",
       "</table>\n",
       "</div>"
      ],
      "text/plain": [
       "                     0       1\n",
       "age              int64   int64\n",
       "workclass       object  object\n",
       "fnlwgt           int64   int64\n",
       "education       object  object\n",
       "education_num    int64   int64\n",
       "marital_status  object  object\n",
       "occupation      object  object\n",
       "relationship    object  object\n",
       "race            object  object\n",
       "sex             object  object\n",
       "capital_gain     int64   int64\n",
       "capital_loss     int64   int64\n",
       "hours_per_week   int64   int64\n",
       "native_country  object  object\n",
       "wage_class      object  object"
      ]
     },
     "execution_count": 7,
     "metadata": {},
     "output_type": "execute_result"
    }
   ],
   "source": [
    "pd.DataFrame([train_set.dtypes,test_set.dtypes]).T"
   ]
  },
  {
   "cell_type": "code",
   "execution_count": 8,
   "id": "little-identity",
   "metadata": {},
   "outputs": [
    {
     "name": "stdout",
     "output_type": "stream",
     "text": [
      "workclass\n",
      "education\n",
      "marital_status\n",
      "occupation\n",
      "relationship\n",
      "race\n",
      "sex\n",
      "native_country\n",
      "wage_class\n"
     ]
    }
   ],
   "source": [
    "for i in train_set.columns: \n",
    "    if train_set[i].dtypes == 'object':\n",
    "        print(i)\n",
    "      "
   ]
  },
  {
   "cell_type": "code",
   "execution_count": 9,
   "id": "younger-mechanism",
   "metadata": {},
   "outputs": [
    {
     "data": {
      "text/plain": [
       "1836"
      ]
     },
     "execution_count": 9,
     "metadata": {},
     "output_type": "execute_result"
    }
   ],
   "source": [
    "train_set['workclass'].isnull().sum()"
   ]
  },
  {
   "cell_type": "code",
   "execution_count": 10,
   "id": "biblical-heating",
   "metadata": {},
   "outputs": [],
   "source": [
    "train_set['workclass'].fillna('Missing',inplace=True)"
   ]
  },
  {
   "cell_type": "code",
   "execution_count": 11,
   "id": "impressed-eight",
   "metadata": {},
   "outputs": [
    {
     "data": {
      "text/plain": [
       "array([' State-gov', ' Self-emp-not-inc', ' Private', ' Federal-gov',\n",
       "       ' Local-gov', 'Missing', ' Self-emp-inc', ' Without-pay',\n",
       "       ' Never-worked'], dtype=object)"
      ]
     },
     "execution_count": 11,
     "metadata": {},
     "output_type": "execute_result"
    }
   ],
   "source": [
    "train_set['workclass'].unique()"
   ]
  },
  {
   "cell_type": "code",
   "execution_count": 12,
   "id": "cooked-donor",
   "metadata": {},
   "outputs": [],
   "source": [
    "labelEncoder = LabelEncoder()\n",
    "train_set['wage_class']=labelEncoder.fit_transform(train_set['wage_class'])\n",
    "test_set['wage_class']=labelEncoder.fit_transform(test_set['wage_class'])"
   ]
  },
  {
   "cell_type": "code",
   "execution_count": 13,
   "id": "periodic-buffer",
   "metadata": {},
   "outputs": [],
   "source": [
    "#Target based Mean Encoding\n",
    "\n",
    "class MeanEncoder(BaseEstimator,TransformerMixin):\n",
    "    def __init__(self,group_cols,dtype=np.float64):\n",
    "        assert type(group_cols) == list\n",
    "        self.dtype = dtype\n",
    "        self.group_cols = group_cols\n",
    "    def fit(self,X,y=None):\n",
    "        self.mapgroup = {}\n",
    "        for cols in self.group_cols:\n",
    "            print(cols)\n",
    "            X[cols].fillna('Missing',inplace=True)\n",
    "            self.dict = X.groupby([cols])[y].mean().sort_values().to_dict()\n",
    "            self.mapgroup[cols]=self.dict\n",
    "        return self\n",
    "    def transform(self,X,y=None):\n",
    "        for cols in self.group_cols:\n",
    "            X[cols].fillna('Missing',inplace=True)\n",
    "            X[cols] = X[cols].map(self.mapgroup[cols])\n",
    "        return X\n",
    "\n"
   ]
  },
  {
   "cell_type": "code",
   "execution_count": 14,
   "id": "modified-incidence",
   "metadata": {},
   "outputs": [
    {
     "name": "stdout",
     "output_type": "stream",
     "text": [
      "workclass\n",
      "occupation\n",
      "native_country\n",
      "marital_status\n",
      "relationship\n"
     ]
    },
    {
     "data": {
      "text/html": [
       "<div>\n",
       "<style scoped>\n",
       "    .dataframe tbody tr th:only-of-type {\n",
       "        vertical-align: middle;\n",
       "    }\n",
       "\n",
       "    .dataframe tbody tr th {\n",
       "        vertical-align: top;\n",
       "    }\n",
       "\n",
       "    .dataframe thead th {\n",
       "        text-align: right;\n",
       "    }\n",
       "</style>\n",
       "<table border=\"1\" class=\"dataframe\">\n",
       "  <thead>\n",
       "    <tr style=\"text-align: right;\">\n",
       "      <th></th>\n",
       "      <th>VIF</th>\n",
       "      <th>Features</th>\n",
       "    </tr>\n",
       "  </thead>\n",
       "  <tbody>\n",
       "    <tr>\n",
       "      <th>0</th>\n",
       "      <td>1.180200</td>\n",
       "      <td>age</td>\n",
       "    </tr>\n",
       "    <tr>\n",
       "      <th>1</th>\n",
       "      <td>1.111705</td>\n",
       "      <td>workclass</td>\n",
       "    </tr>\n",
       "    <tr>\n",
       "      <th>2</th>\n",
       "      <td>1.022597</td>\n",
       "      <td>fnlwgt</td>\n",
       "    </tr>\n",
       "    <tr>\n",
       "      <th>3</th>\n",
       "      <td>1.160049</td>\n",
       "      <td>education</td>\n",
       "    </tr>\n",
       "    <tr>\n",
       "      <th>4</th>\n",
       "      <td>1.572965</td>\n",
       "      <td>education_num</td>\n",
       "    </tr>\n",
       "    <tr>\n",
       "      <th>5</th>\n",
       "      <td>17.659343</td>\n",
       "      <td>marital_status</td>\n",
       "    </tr>\n",
       "    <tr>\n",
       "      <th>6</th>\n",
       "      <td>1.435821</td>\n",
       "      <td>occupation</td>\n",
       "    </tr>\n",
       "    <tr>\n",
       "      <th>7</th>\n",
       "      <td>17.944962</td>\n",
       "      <td>relationship</td>\n",
       "    </tr>\n",
       "    <tr>\n",
       "      <th>8</th>\n",
       "      <td>1.020212</td>\n",
       "      <td>race</td>\n",
       "    </tr>\n",
       "    <tr>\n",
       "      <th>9</th>\n",
       "      <td>1.259932</td>\n",
       "      <td>sex</td>\n",
       "    </tr>\n",
       "    <tr>\n",
       "      <th>10</th>\n",
       "      <td>1.032821</td>\n",
       "      <td>capital_gain</td>\n",
       "    </tr>\n",
       "    <tr>\n",
       "      <th>11</th>\n",
       "      <td>1.018431</td>\n",
       "      <td>capital_loss</td>\n",
       "    </tr>\n",
       "    <tr>\n",
       "      <th>12</th>\n",
       "      <td>1.140890</td>\n",
       "      <td>hours_per_week</td>\n",
       "    </tr>\n",
       "    <tr>\n",
       "      <th>13</th>\n",
       "      <td>1.083869</td>\n",
       "      <td>native_country</td>\n",
       "    </tr>\n",
       "  </tbody>\n",
       "</table>\n",
       "</div>"
      ],
      "text/plain": [
       "          VIF        Features\n",
       "0    1.180200             age\n",
       "1    1.111705       workclass\n",
       "2    1.022597          fnlwgt\n",
       "3    1.160049       education\n",
       "4    1.572965   education_num\n",
       "5   17.659343  marital_status\n",
       "6    1.435821      occupation\n",
       "7   17.944962    relationship\n",
       "8    1.020212            race\n",
       "9    1.259932             sex\n",
       "10   1.032821    capital_gain\n",
       "11   1.018431    capital_loss\n",
       "12   1.140890  hours_per_week\n",
       "13   1.083869  native_country"
      ]
     },
     "execution_count": 14,
     "metadata": {},
     "output_type": "execute_result"
    }
   ],
   "source": [
    "meanenocder = MeanEncoder(group_cols=['workclass','occupation','native_country','marital_status','relationship'])\n",
    "train_set = meanenocder.fit_transform(X=train_set,y='wage_class')\n",
    "ordinal = OrdinalEncoder()\n",
    "train_set[['education','race']]=ordinal.fit_transform(train_set[['education','race']])\n",
    "onehot = OneHotEncoder(sparse=False)\n",
    "train_set['sex'] = onehot.fit_transform(train_set[['sex']])[:,0]\n",
    "train_set.head()\n",
    "one_hot_attribs = ['sex']\n",
    "ordinal_attribs = ['education','race']\n",
    "column_pipeline = ColumnTransformer([\n",
    "    (\"sex\",OneHotEncoder(sparse=False),one_hot_attribs),\n",
    "    (\"ordinal\",OrdinalEncoder(),ordinal_attribs)\n",
    "])\n",
    "train_pipeline = Pipeline([\n",
    "    (\"target_mean\",MeanEncoder(group_cols=['workclass','occupation','native_country','marital_status','relationship'])),\n",
    "])\n",
    "\n",
    "#train_pipeline.fit_transform(train_set)\n",
    "X_train  = train_set[train_set.columns[:-1]]\n",
    "y_train = train_set[train_set.columns[-1]]\n",
    "\n",
    "scaler =StandardScaler()\n",
    "X_scaled_train = scaler.fit_transform(X_train)\n",
    "\n",
    "#Variance Inflation Factor\n",
    "variables = X_scaled_train\n",
    "vif = pd.DataFrame()\n",
    "vif[\"VIF\"] = [variance_inflation_factor(variables, i) for i in range(variables.shape[1])]\n",
    "vif[\"Features\"] = X_train.columns\n",
    "vif\n",
    "\n",
    "\n"
   ]
  },
  {
   "cell_type": "code",
   "execution_count": 15,
   "id": "large-chaos",
   "metadata": {},
   "outputs": [],
   "source": [
    "#Drop marital_status as its highly corelated with relationship\n",
    "drop_cols=[5]\n",
    "X_scaled_train = np.delete(X_scaled_train,drop_cols,axis=1)"
   ]
  },
  {
   "cell_type": "code",
   "execution_count": 16,
   "id": "absent-rebecca",
   "metadata": {},
   "outputs": [
    {
     "data": {
      "image/png": "[encoded data removed]",
      "text/plain": [
       "<Figure size 432x288 with 1 Axes>"
      ]
     },
     "metadata": {},
     "output_type": "display_data"
    }
   ],
   "source": [
    "pca = PCA()\n",
    "principalComponents = pca.fit_transform(X_scaled_train)\n",
    "plt.figure()\n",
    "plt.plot(np.cumsum(pca.explained_variance_ratio_))\n",
    "plt.xlabel('Number of components')\n",
    "plt.ylabel('Variance%')\n",
    "plt.title('Explained variance')\n",
    "plt.show()"
   ]
  },
  {
   "cell_type": "code",
   "execution_count": 17,
   "id": "intellectual-constitution",
   "metadata": {},
   "outputs": [],
   "source": [
    "pca = PCA(n_components=11)\n",
    "principalComponents = pca.fit_transform(X_scaled_train)\n"
   ]
  },
  {
   "cell_type": "code",
   "execution_count": 18,
   "id": "guided-voltage",
   "metadata": {},
   "outputs": [
    {
     "data": {
      "text/plain": [
       "(32561, 11)"
      ]
     },
     "execution_count": 18,
     "metadata": {},
     "output_type": "execute_result"
    }
   ],
   "source": [
    "principalComponents.shape"
   ]
  },
  {
   "cell_type": "code",
   "execution_count": 19,
   "id": "potential-customs",
   "metadata": {},
   "outputs": [
    {
     "data": {
      "text/plain": [
       "XGBClassifier(base_score=0.5, booster='gbtree', colsample_bylevel=1,\n",
       "              colsample_bynode=1, colsample_bytree=1,\n",
       "              disable_default_eval_metric=True, gamma=0, gpu_id=-1,\n",
       "              importance_type='gain', interaction_constraints='',\n",
       "              learning_rate=0.300000012, max_delta_step=0, max_depth=6,\n",
       "              min_child_weight=1, missing=nan, monotone_constraints='()',\n",
       "              n_estimators=100, n_jobs=8, num_parallel_tree=1, random_state=0,\n",
       "              reg_alpha=0, reg_lambda=1, scale_pos_weight=1, subsample=1,\n",
       "              tree_method='exact', use_label_encoder=False,\n",
       "              validate_parameters=1, verbosity=None)"
      ]
     },
     "execution_count": 19,
     "metadata": {},
     "output_type": "execute_result"
    }
   ],
   "source": [
    "model = XGBClassifier(objective='binary:logistic',use_label_encoder=False,disable_default_eval_metric=True)\n",
    "model.fit(principalComponents,y_train)"
   ]
  },
  {
   "cell_type": "code",
   "execution_count": 20,
   "id": "worse-puzzle",
   "metadata": {},
   "outputs": [],
   "source": [
    "test_set = meanenocder.transform(X=test_set,y='wage_class')\n",
    "test_set[['education','race']]=ordinal.transform(test_set[['education','race']])\n",
    "test_set['sex'] = onehot.transform(test_set[['sex']])[:,0]\n",
    "X_test  = test_set[test_set.columns[:-1]]\n",
    "y_test = test_set[test_set.columns[-1]]\n",
    "X_scaled_test = scaler.transform(X_test)\n",
    "drop_cols=[5]\n",
    "X_scaled_test = np.delete(X_scaled_test,drop_cols,axis=1)\n",
    "X_scaled_test.shape\n",
    "X_scaled_test = pca.transform(X_scaled_test)"
   ]
  },
  {
   "cell_type": "code",
   "execution_count": 21,
   "id": "prepared-colleague",
   "metadata": {},
   "outputs": [
    {
     "data": {
      "text/plain": [
       "0.8455868804127511"
      ]
     },
     "execution_count": 21,
     "metadata": {},
     "output_type": "execute_result"
    }
   ],
   "source": []
  },
  {
   "cell_type": "code",
   "execution_count": 22,
   "id": "aquatic-jimmy",
   "metadata": {},
   "outputs": [
    {
     "name": "stdout",
     "output_type": "stream",
     "text": [
      "The precision is  0.927945315641335\n",
      "The recall is  0.8770236376073574\n",
      "The F1 score is  0.9017661769302907\n",
      "The AUC score is  0.7536242438841101\n"
     ]
    }
   ],
   "source": [
    "y_pred = model.predict(X_scaled_test)\n",
    "acc = accuracy_score(y_test,y_pred)\n",
    "# Confusion Matrix\n",
    "conf_mat = confusion_matrix(y_test,y_pred)\n",
    "conf_mat\n",
    "tp = conf_mat[0][0]\n",
    "fp = conf_mat[0][1]\n",
    "fn = conf_mat[1][0]\n",
    "tn = conf_mat[1][1]\n",
    "precision = tp/(tp+fp)\n",
    "recall = tp/(tp+fn)\n",
    "F1 = 2* ((precision*recall)/(precision+recall))\n",
    "auc = roc_auc_score(y_test,y_pred)\n",
    "print('The Accuracy is ', acc )\n",
    "print('The precision is ', precision )\n",
    "print('The recall is ', recall )\n",
    "print('The F1 score is ', F1 )\n",
    "print('The AUC score is ', auc )"
   ]
  },
  {
   "cell_type": "code",
   "execution_count": 23,
   "id": "advisory-traveler",
   "metadata": {},
   "outputs": [],
   "source": [
    "fpr,tpr,threshold = roc_curve(y_test,y_pred)\n"
   ]
  },
  {
   "cell_type": "code",
   "execution_count": 24,
   "id": "living-hearing",
   "metadata": {},
   "outputs": [
    {
     "data": {
      "text/plain": [
       "Text(0.5, 1.0, 'ROC Curve')"
      ]
     },
     "execution_count": 24,
     "metadata": {},
     "output_type": "execute_result"
    },
    {
     "data": {
      "image/png": "[encoded data removed]",
      "text/plain": [
       "<Figure size 432x288 with 1 Axes>"
      ]
     },
     "metadata": {},
     "output_type": "display_data"
    }
   ],
   "source": [
    "plt.plot(fpr,tpr,color='orange', label='ROC')\n",
    "plt.plot([0, 1], [0, 1], color='darkblue', linestyle='--',label='ROC curve (area = %0.2f)' % auc)\n",
    "plt.xlabel('False Positive Rate')\n",
    "plt.ylabel('True Positive Rate')\n",
    "plt.legend()\n",
    "plt.title('ROC Curve')"
   ]
  },
  {
   "cell_type": "code",
   "execution_count": 25,
   "id": "industrial-ladder",
   "metadata": {},
   "outputs": [
    {
     "data": {
      "text/plain": [
       "GridSearchCV(cv=10,\n",
       "             estimator=XGBClassifier(base_score=0.5, booster='gbtree',\n",
       "                                     colsample_bylevel=1, colsample_bynode=1,\n",
       "                                     colsample_bytree=1,\n",
       "                                     disable_default_eval_metric=True, gamma=0,\n",
       "                                     gpu_id=-1, importance_type='gain',\n",
       "                                     interaction_constraints='',\n",
       "                                     learning_rate=0.300000012,\n",
       "                                     max_delta_step=0, max_depth=6,\n",
       "                                     min_child_weight=1, missing=nan,\n",
       "                                     monotone_constraints='()',\n",
       "                                     n_estimators=100, n_jobs=8,\n",
       "                                     num_parallel_tree=1, random_state=0,\n",
       "                                     reg_alpha=0, reg_lambda=1,\n",
       "                                     scale_pos_weight=1, subsample=1,\n",
       "                                     tree_method='exact',\n",
       "                                     use_label_encoder=False,\n",
       "                                     validate_parameters=1, verbosity=None),\n",
       "             param_grid={'learning_rate': [1, 0.5, 0.1, 0.01, 0.001],\n",
       "                         'max_depth': [3, 5, 10, 20],\n",
       "                         'n_estimators': [10, 50, 100, 200]})"
      ]
     },
     "execution_count": 25,
     "metadata": {},
     "output_type": "execute_result"
    }
   ],
   "source": [
    "param_grid = { 'learning_rate':[1,0.5,0.1,0.01,0.001],\n",
    "    'max_depth': [3,5,10,20],\n",
    "    'n_estimators':[10,50,100,200]}\n",
    "grid= GridSearchCV(model,param_grid,cv=10)\n",
    "grid.fit(principalComponents,y_train)"
   ]
  },
  {
   "cell_type": "code",
   "execution_count": 26,
   "id": "organizational-walter",
   "metadata": {},
   "outputs": [
    {
     "data": {
      "text/plain": [
       "{'learning_rate': 0.1, 'max_depth': 5, 'n_estimators': 100}"
      ]
     },
     "execution_count": 26,
     "metadata": {},
     "output_type": "execute_result"
    }
   ],
   "source": [
    "grid.best_params_"
   ]
  },
  {
   "cell_type": "code",
   "execution_count": 28,
   "id": "atomic-conservative",
   "metadata": {},
   "outputs": [
    {
     "data": {
      "text/plain": [
       "XGBClassifier(base_score=0.5, booster='gbtree', colsample_bylevel=1,\n",
       "              colsample_bynode=1, colsample_bytree=1,\n",
       "              disable_default_eval_metric=True, gamma=0, gpu_id=-1,\n",
       "              importance_type='gain', interaction_constraints='',\n",
       "              learning_rate=0.1, max_delta_step=0, max_depth=5,\n",
       "              min_child_weight=1, missing=nan, monotone_constraints='()',\n",
       "              n_estimators=100, n_jobs=8, num_parallel_tree=1, random_state=0,\n",
       "              reg_alpha=0, reg_lambda=1, scale_pos_weight=1, subsample=1,\n",
       "              tree_method='exact', use_label_encoder=False,\n",
       "              validate_parameters=1, verbosity=None)"
      ]
     },
     "execution_count": 28,
     "metadata": {},
     "output_type": "execute_result"
    }
   ],
   "source": [
    "model = XGBClassifier(objective='binary:logistic',use_label_encoder=False,disable_default_eval_metric=True,\n",
    "                     learning_rate= 0.1, max_depth=5,n_estimators = 100)\n",
    "model.fit(principalComponents,y_train)"
   ]
  },
  {
   "cell_type": "code",
   "execution_count": 29,
   "id": "champion-afternoon",
   "metadata": {},
   "outputs": [
    {
     "name": "stdout",
     "output_type": "stream",
     "text": [
      "The Accuracy is  0.8508076899453351\n",
      "The precision is  0.9368717330116606\n",
      "The recall is  0.8763351888069806\n",
      "The F1 score is  0.9055929107233083\n",
      "The AUC score is  0.7547073173638648\n"
     ]
    }
   ],
   "source": [
    "y_pred = model.predict(X_scaled_test)\n",
    "acc = accuracy_score(y_test,y_pred)\n",
    "# Confusion Matrix\n",
    "conf_mat = confusion_matrix(y_test,y_pred)\n",
    "conf_mat\n",
    "tp = conf_mat[0][0]\n",
    "fp = conf_mat[0][1]\n",
    "fn = conf_mat[1][0]\n",
    "tn = conf_mat[1][1]\n",
    "precision = tp/(tp+fp)\n",
    "recall = tp/(tp+fn)\n",
    "F1 = 2* ((precision*recall)/(precision+recall))\n",
    "auc = roc_auc_score(y_test,y_pred)\n",
    "print('The Accuracy is ', acc )\n",
    "print('The precision is ', precision )\n",
    "print('The recall is ', recall )\n",
    "print('The F1 score is ', F1 )\n",
    "print('The AUC score is ', auc )"
   ]
  },
  {
   "cell_type": "code",
   "execution_count": 30,
   "id": "seasonal-stupid",
   "metadata": {},
   "outputs": [
    {
     "data": {
      "text/plain": [
       "Text(0.5, 1.0, 'ROC Curve')"
      ]
     },
     "execution_count": 30,
     "metadata": {},
     "output_type": "execute_result"
    },
    {
     "data": {
      "image/png": "[encoded data removed]",
      "text/plain": [
       "<Figure size 432x288 with 1 Axes>"
      ]
     },
     "metadata": {},
     "output_type": "display_data"
    }
   ],
   "source": [
    "plt.plot(fpr,tpr,color='orange', label='ROC')\n",
    "plt.plot([0, 1], [0, 1], color='darkblue', linestyle='--',label='ROC curve (area = %0.2f)' % auc)\n",
    "plt.xlabel('False Positive Rate')\n",
    "plt.ylabel('True Positive Rate')\n",
    "plt.legend()\n",
    "plt.title('ROC Curve')"
   ]
  },
  {
   "cell_type": "code",
   "execution_count": null,
   "id": "cellular-trigger",
   "metadata": {},
   "outputs": [],
   "source": []
  }
 ],
 "metadata": {
  "kernelspec": {
   "display_name": "Python 3",
   "language": "python",
   "name": "python3"
  },
  "language_info": {
   "codemirror_mode": {
    "name": "ipython",
    "version": 3
   },
   "file_extension": ".py",
   "mimetype": "text/x-python",
   "name": "python",
   "nbconvert_exporter": "python",
   "pygments_lexer": "ipython3",
   "version": "3.9.1"
  }
 },
 "nbformat": 4,
 "nbformat_minor": 5
}
