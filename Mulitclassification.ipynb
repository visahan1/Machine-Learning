{
 "cells": [
  {
   "cell_type": "code",
   "execution_count": 140,
   "id": "broke-stylus",
   "metadata": {},
   "outputs": [],
   "source": [
    "import numpy as np\n",
    "import pandas as pd\n",
    "import matplotlib.pyplot as plt\n",
    "import seaborn as sns\n",
    "sns.set()\n",
    "from sklearn.pipeline import Pipeline\n",
    "from sklearn.preprocessing import StandardScaler,PowerTransformer\n",
    "from sklearn.model_selection import train_test_split\n",
    "from sklearn.linear_model import LogisticRegression\n",
    "from sklearn.model_selection import RepeatedStratifiedKFold,GridSearchCV\n",
    "%matplotlib inline"
   ]
  },
  {
   "cell_type": "code",
   "execution_count": 106,
   "id": "paperback-solomon",
   "metadata": {},
   "outputs": [],
   "source": [
    "from sklearn.datasets import make_classification"
   ]
  },
  {
   "cell_type": "code",
   "execution_count": 113,
   "id": "apparent-emission",
   "metadata": {},
   "outputs": [
    {
     "data": {
      "text/plain": [
       "array([0, 0, 2, ..., 2, 1, 0])"
      ]
     },
     "execution_count": 113,
     "metadata": {},
     "output_type": "execute_result"
    }
   ],
   "source": [
    "X,y = make_classification(n_samples=10000,\n",
    "    n_features=20,n_informative=4,\n",
    "    n_redundant=3,n_classes=3,n_clusters_per_class=3,random_state=42)\n",
    "X_train, X_test, y_train, y_test = train_test_split(X, y, test_size=0.33, random_state=42)\n",
    "y"
   ]
  },
  {
   "cell_type": "code",
   "execution_count": 114,
   "id": "surgical-apache",
   "metadata": {},
   "outputs": [
    {
     "data": {
      "text/plain": [
       "array([[ 1.83673019,  0.72936895, -0.82035216, ..., -2.52878627,\n",
       "         0.25570096,  1.68361606],\n",
       "       [-1.62867246,  1.95672031, -1.51713113, ...,  1.67200319,\n",
       "         0.17492613,  0.1410726 ],\n",
       "       [-1.29257925,  0.77035889, -0.33893455, ...,  1.0744304 ,\n",
       "        -1.2622008 , -0.95960605],\n",
       "       ...,\n",
       "       [-1.58623742, -0.33331707,  1.44582666, ...,  1.01499354,\n",
       "        -1.51850013, -0.29279776],\n",
       "       [-0.19889264, -0.34766834,  2.2172518 , ...,  1.40637857,\n",
       "         1.16767477,  0.87610733],\n",
       "       [-0.68360516, -1.79612215, -0.98239122, ...,  2.64779194,\n",
       "         2.61148872, -0.89594959]])"
      ]
     },
     "execution_count": 114,
     "metadata": {},
     "output_type": "execute_result"
    }
   ],
   "source": [
    "X_train"
   ]
  },
  {
   "cell_type": "code",
   "execution_count": 141,
   "id": "amino-dating",
   "metadata": {},
   "outputs": [],
   "source": [
    "ingestion_pipeline = Pipeline([('std_scaler',StandardScaler()),\n",
    "                              ('power_transformer',PowerTransformer())])\n",
    "X_train_ingested = ingestion_pipeline.fit_transform(X_train,y_train)"
   ]
  },
  {
   "cell_type": "code",
   "execution_count": 142,
   "id": "arabic-treasurer",
   "metadata": {},
   "outputs": [
    {
     "data": {
      "text/plain": [
       "LogisticRegression(multi_class='ovr')"
      ]
     },
     "execution_count": 142,
     "metadata": {},
     "output_type": "execute_result"
    }
   ],
   "source": [
    "model = LogisticRegression(multi_class='ovr')\n",
    "model.fit(X_train_ingested,y_train)"
   ]
  },
  {
   "cell_type": "code",
   "execution_count": 144,
   "id": "federal-interstate",
   "metadata": {},
   "outputs": [
    {
     "data": {
      "text/plain": [
       "0.6621212121212121"
      ]
     },
     "execution_count": 144,
     "metadata": {},
     "output_type": "execute_result"
    }
   ],
   "source": [
    "X_test_ingested = ingestion_pipeline.transform(X_test)\n",
    "model.score(X_test_ingested,y_test)"
   ]
  },
  {
   "cell_type": "code",
   "execution_count": 145,
   "id": "durable-anxiety",
   "metadata": {},
   "outputs": [],
   "source": [
    "solvers = ['newton-cg', 'lbfgs', 'liblinear']\n",
    "penalty = ['l2']\n",
    "c_values = [100, 10, 1.0, 0.1, 0.01]\n",
    "grid = dict(solver=solvers,penalty=penalty,C=c_values)\n",
    "cv = RepeatedStratifiedKFold(n_splits=10, n_repeats=3, random_state=1)\n",
    "grid_search = GridSearchCV(estimator=model, param_grid=grid, n_jobs=-1, cv=cv, scoring='accuracy',error_score=0)\n",
    "grid_result = grid_search.fit(X_train_ingested,y_train)\n"
   ]
  },
  {
   "cell_type": "code",
   "execution_count": 146,
   "id": "clean-caution",
   "metadata": {},
   "outputs": [
    {
     "data": {
      "text/plain": [
       "{'C': 100, 'penalty': 'l2', 'solver': 'liblinear'}"
      ]
     },
     "execution_count": 146,
     "metadata": {},
     "output_type": "execute_result"
    }
   ],
   "source": [
    "grid_result.best_params_"
   ]
  },
  {
   "cell_type": "code",
   "execution_count": 152,
   "id": "suffering-species",
   "metadata": {},
   "outputs": [
    {
     "data": {
      "text/plain": [
       "LogisticRegression(multi_class='ovr', solver='liblinear')"
      ]
     },
     "execution_count": 152,
     "metadata": {},
     "output_type": "execute_result"
    }
   ],
   "source": [
    "model = LogisticRegression(multi_class='ovr',solver='liblinear')\n",
    "model.fit(X_train_ingested,y_train)"
   ]
  },
  {
   "cell_type": "code",
   "execution_count": 153,
   "id": "hungarian-belfast",
   "metadata": {},
   "outputs": [
    {
     "data": {
      "text/plain": [
       "0.6621212121212121"
      ]
     },
     "execution_count": 153,
     "metadata": {},
     "output_type": "execute_result"
    }
   ],
   "source": [
    "ypred= model.predict(X_test_ingested)\n",
    "model.score(X_test_ingested,y_test)"
   ]
  },
  {
   "cell_type": "code",
   "execution_count": 162,
   "id": "experienced-frank",
   "metadata": {},
   "outputs": [],
   "source": [
    "from sklearn.metrics import confusion_matrix,recall_score,classification_report"
   ]
  },
  {
   "cell_type": "code",
   "execution_count": 154,
   "id": "contrary-aside",
   "metadata": {},
   "outputs": [],
   "source": [
    "cm = confusion_matrix(y_test,ypred)"
   ]
  },
  {
   "cell_type": "code",
   "execution_count": 135,
   "id": "supported-township",
   "metadata": {},
   "outputs": [
    {
     "data": {
      "text/plain": [
       "(3300,)"
      ]
     },
     "execution_count": 135,
     "metadata": {},
     "output_type": "execute_result"
    }
   ],
   "source": [
    "y_test.shape"
   ]
  },
  {
   "cell_type": "code",
   "execution_count": 167,
   "id": "threaded-perfume",
   "metadata": {},
   "outputs": [
    {
     "data": {
      "text/plain": [
       "<AxesSubplot:>"
      ]
     },
     "execution_count": 167,
     "metadata": {},
     "output_type": "execute_result"
    },
    {
     "data": {
      "image/png": "[encoded data removed]",
      "text/plain": [
       "<Figure size 432x288 with 2 Axes>"
      ]
     },
     "metadata": {
      "needs_background": "light"
     },
     "output_type": "display_data"
    }
   ],
   "source": [
    "sns.heatmap(cm, annot=True,fmt=\".4f\", linewidths=.5, square = True, cmap = 'Blues_r')"
   ]
  },
  {
   "cell_type": "code",
   "execution_count": 161,
   "id": "challenging-abortion",
   "metadata": {},
   "outputs": [
    {
     "data": {
      "text/plain": [
       "0.6621212121212121"
      ]
     },
     "execution_count": 161,
     "metadata": {},
     "output_type": "execute_result"
    }
   ],
   "source": [
    "recall_score(y_test,ypred,average='weighted')"
   ]
  },
  {
   "cell_type": "code",
   "execution_count": 166,
   "id": "furnished-gender",
   "metadata": {},
   "outputs": [
    {
     "name": "stdout",
     "output_type": "stream",
     "text": [
      "              precision    recall  f1-score   support\n",
      "\n",
      "           0      0.681     0.723     0.701      1068\n",
      "           1      0.693     0.701     0.697      1142\n",
      "           2      0.606     0.562     0.583      1090\n",
      "\n",
      "    accuracy                          0.662      3300\n",
      "   macro avg      0.660     0.662     0.660      3300\n",
      "weighted avg      0.660     0.662     0.661      3300\n",
      "\n"
     ]
    }
   ],
   "source": [
    "print(classification_report(y_test,ypred,digits=3))"
   ]
  },
  {
   "cell_type": "code",
   "execution_count": null,
   "id": "abandoned-temple",
   "metadata": {},
   "outputs": [],
   "source": []
  }
 ],
 "metadata": {
  "kernelspec": {
   "display_name": "Python 3",
   "language": "python",
   "name": "python3"
  },
  "language_info": {
   "codemirror_mode": {
    "name": "ipython",
    "version": 3
   },
   "file_extension": ".py",
   "mimetype": "text/x-python",
   "name": "python",
   "nbconvert_exporter": "python",
   "pygments_lexer": "ipython3",
   "version": "3.9.1"
  }
 },
 "nbformat": 4,
 "nbformat_minor": 5
}
